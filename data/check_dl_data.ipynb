{
 "cells": [
  {
   "cell_type": "code",
   "execution_count": 2,
   "metadata": {},
   "outputs": [],
   "source": [
    "import json"
   ]
  },
  {
   "cell_type": "code",
   "execution_count": 3,
   "metadata": {},
   "outputs": [],
   "source": [
    "with open('dl_data.json') as f:\n",
    "    data = json.load(f)"
   ]
  },
  {
   "cell_type": "code",
   "execution_count": 4,
   "metadata": {},
   "outputs": [
    {
     "data": {
      "text/plain": [
       "dict_keys(['rendered_body', 'body', 'coediting', 'comments_count', 'created_at', 'group', 'id', 'likes_count', 'private', 'reactions_count', 'stocks_count', 'tags', 'title', 'updated_at', 'url', 'user', 'page_views_count', 'team_membership', 'organization_url_name', 'slide'])"
      ]
     },
     "execution_count": 4,
     "metadata": {},
     "output_type": "execute_result"
    }
   ],
   "source": [
    "data[0].keys()"
   ]
  },
  {
   "cell_type": "code",
   "execution_count": 5,
   "metadata": {},
   "outputs": [
    {
     "data": {
      "text/plain": [
       "'Next.jsプロジェクトをStatic Web Appsにデプロイしようとしたらかなり苦戦した'"
      ]
     },
     "execution_count": 5,
     "metadata": {},
     "output_type": "execute_result"
    }
   ],
   "source": [
    "data[0][\"title\"]"
   ]
  },
  {
   "cell_type": "code",
   "execution_count": 6,
   "metadata": {},
   "outputs": [
    {
     "data": {
      "text/plain": [
       "[{'name': 'GitHub', 'versions': []},\n",
       " {'name': 'Azure', 'versions': []},\n",
       " {'name': 'Next.js', 'versions': []},\n",
       " {'name': 'GitHubActions', 'versions': []},\n",
       " {'name': 'StaticWebApps', 'versions': []}]"
      ]
     },
     "execution_count": 6,
     "metadata": {},
     "output_type": "execute_result"
    }
   ],
   "source": [
    "data[0][\"tags\"]"
   ]
  },
  {
   "cell_type": "code",
   "execution_count": 7,
   "metadata": {},
   "outputs": [
    {
     "data": {
      "text/plain": [
       "'https://qiita.com/flutter_daisuki/items/152468a433685ccd32c6'"
      ]
     },
     "execution_count": 7,
     "metadata": {},
     "output_type": "execute_result"
    }
   ],
   "source": [
    "data[0][\"url\"]"
   ]
  },
  {
   "cell_type": "code",
   "execution_count": 8,
   "metadata": {},
   "outputs": [
    {
     "data": {
      "text/plain": [
       "{'description': 'AzureとAI・IoTの勉強をしてます。\\r\\n得意分野はWebフロントエンド・モバイル領域なので、発信はReact.jsやFlutter、Pythonなどが多めです。',\n",
       " 'facebook_id': '',\n",
       " 'followees_count': 1,\n",
       " 'followers_count': 3,\n",
       " 'github_login_name': None,\n",
       " 'id': 'flutter_daisuki',\n",
       " 'items_count': 39,\n",
       " 'linkedin_id': '',\n",
       " 'location': '東京都',\n",
       " 'name': '池内 隆人',\n",
       " 'organization': '株式会社ヘッドウォータース',\n",
       " 'permanent_id': 1812049,\n",
       " 'profile_image_url': 'https://s3-ap-northeast-1.amazonaws.com/qiita-image-store/0/1812049/5c7fb83ee502aa1055be7436662a6c3823f9f2d1/x_large.png?1677670496',\n",
       " 'team_only': False,\n",
       " 'twitter_screen_name': None,\n",
       " 'website_url': ''}"
      ]
     },
     "execution_count": 8,
     "metadata": {},
     "output_type": "execute_result"
    }
   ],
   "source": [
    "data[0][\"user\"]"
   ]
  },
  {
   "cell_type": "code",
   "execution_count": 9,
   "metadata": {},
   "outputs": [
    {
     "data": {
      "text/plain": [
       "'2023-12-27T01:38:34+09:00'"
      ]
     },
     "execution_count": 9,
     "metadata": {},
     "output_type": "execute_result"
    }
   ],
   "source": [
    "data[0][\"created_at\"]"
   ]
  },
  {
   "cell_type": "code",
   "execution_count": null,
   "metadata": {},
   "outputs": [],
   "source": []
  }
 ],
 "metadata": {
  "kernelspec": {
   "display_name": "base",
   "language": "python",
   "name": "python3"
  },
  "language_info": {
   "codemirror_mode": {
    "name": "ipython",
    "version": 3
   },
   "file_extension": ".py",
   "mimetype": "text/x-python",
   "name": "python",
   "nbconvert_exporter": "python",
   "pygments_lexer": "ipython3",
   "version": "3.10.10"
  }
 },
 "nbformat": 4,
 "nbformat_minor": 2
}
